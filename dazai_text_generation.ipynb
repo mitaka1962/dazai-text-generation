{
  "nbformat": 4,
  "nbformat_minor": 0,
  "metadata": {
    "accelerator": "GPU",
    "colab": {
      "name": "dazai_text_generation.ipynb",
      "provenance": [],
      "collapsed_sections": [],
      "toc_visible": true
    },
    "kernelspec": {
      "display_name": "Python 3",
      "language": "python",
      "name": "python3"
    },
    "language_info": {
      "codemirror_mode": {
        "name": "ipython",
        "version": 3
      },
      "file_extension": ".py",
      "mimetype": "text/x-python",
      "name": "python",
      "nbconvert_exporter": "python",
      "pygments_lexer": "ipython3",
      "version": "3.7.3"
    }
  },
  "cells": [
    {
      "cell_type": "markdown",
      "metadata": {
        "colab_type": "text",
        "id": "fq6WdNoqrnOj"
      },
      "source": [
        "# RNNで太宰治風の文章生成"
      ]
    },
    {
      "cell_type": "markdown",
      "metadata": {
        "colab_type": "text",
        "id": "TmlcsSA1ofzv"
      },
      "source": [
        "## 準備"
      ]
    },
    {
      "cell_type": "markdown",
      "metadata": {
        "colab_type": "text",
        "id": "RQ_kMJF-sLzn"
      },
      "source": [
        "### ライブラリのインポート"
      ]
    },
    {
      "cell_type": "code",
      "execution_count": 2,
      "metadata": {
        "colab": {
          "base_uri": "https://localhost:8080/",
          "height": 35
        },
        "colab_type": "code",
        "id": "2w8kK5Ri7kX5",
        "outputId": "f1d0a627-074d-4a4e-e22a-0b5e82aceb0a"
      },
      "outputs": [
        {
          "name": "stdout",
          "output_type": "stream",
          "text": [
            "1.4.0\n"
          ]
        }
      ],
      "source": [
        "import time, math, random, pickle\n",
        "from pathlib import Path\n",
        "import numpy as np\n",
        "import matplotlib.pyplot as plt\n",
        "import torch\n",
        "print(torch.__version__)\n",
        "import torch.nn as nn \n",
        "import torch.optim as optim\n",
        "import torch.nn.functional as F"
      ]
    },
    {
      "cell_type": "markdown",
      "metadata": {
        "colab_type": "text",
        "id": "R-e4EfKrrpTU"
      },
      "source": [
        "### GPUを利用する"
      ]
    },
    {
      "cell_type": "code",
      "execution_count": 3,
      "metadata": {
        "colab": {
          "base_uri": "https://localhost:8080/",
          "height": 35
        },
        "colab_type": "code",
        "id": "AGndF5rbrsdX",
        "outputId": "30ff836f-b6dd-455e-f595-858233e9e93c"
      },
      "outputs": [
        {
          "name": "stdout",
          "output_type": "stream",
          "text": [
            "cuda\n"
          ]
        }
      ],
      "source": [
        "device = 'cuda' if torch.cuda.is_available() else 'cpu'\n",
        "print(device)"
      ]
    },
    {
      "cell_type": "markdown",
      "metadata": {
        "colab_type": "text",
        "id": "pCXQiAURUcBE"
      },
      "source": [
        "## データの読み込み"
      ]
    },
    {
      "cell_type": "markdown",
      "metadata": {
        "colab_type": "text",
        "id": "pjALKdJidgci"
      },
      "source": [
        "### 学習済み単語ベクトル(chiVeより作成)をロード"
      ]
    },
    {
      "cell_type": "code",
      "execution_count": 0,
      "metadata": {
        "colab": {},
        "colab_type": "code",
        "id": "xNMqkuU9pzGs"
      },
      "outputs": [],
      "source": [
        "filename = './data/emb_layer_50k.npy'\n",
        "with open(filename, 'rb') as f:\n",
        "  emb_layer = np.load(f)\n",
        "  unk_vec = np.sum(emb_layer, axis=0) / len(emb_layer)\n",
        "\n",
        "  emb_layer = np.append(emb_layer, unk_vec.reshape(1, -1), axis=0)\n",
        "  embeddings = torch.tensor(emb_layer, dtype=torch.float, device=device)"
      ]
    },
    {
      "cell_type": "markdown",
      "metadata": {
        "colab_type": "text",
        "id": "du7s1Phb0AeV"
      },
      "source": [
        "### 単語と単語IDを変換する辞書をロード"
      ]
    },
    {
      "cell_type": "code",
      "execution_count": 0,
      "metadata": {
        "colab": {},
        "colab_type": "code",
        "id": "v30qYV360AK-"
      },
      "outputs": [],
      "source": [
        "filename = './data/word2id_50k.pkl'\n",
        "with open(filename, 'rb') as f:\n",
        "  word_to_id = pickle.load(f)\n",
        "  id_to_word = {v: k for k, v in word_to_id.items()}\n",
        "\n",
        "  dict_len = len(word_to_id)\n",
        "  word_to_id['<unk>'] = dict_len\n",
        "  id_to_word[dict_len] = '<unk>'"
      ]
    },
    {
      "cell_type": "markdown",
      "metadata": {
        "colab_type": "text",
        "id": "0XGy-VrtdoQB"
      },
      "source": [
        "### コーパスをロード"
      ]
    },
    {
      "cell_type": "code",
      "execution_count": 0,
      "metadata": {
        "colab": {
          "base_uri": "https://localhost:8080/",
          "height": 35
        },
        "colab_type": "code",
        "id": "nG8kZDTjdsKR",
        "outputId": "f643aedd-0005-4d76-c2e9-0867602af657"
      },
      "outputs": [
        {
          "name": "stdout",
          "output_type": "stream",
          "text": [
            "1385480\n"
          ]
        }
      ],
      "source": [
        "corpus = np.array([], dtype=int)\n",
        "\n",
        "corpus_dir = Path('./data/corpus')\n",
        "for file_path in corpus_dir.glob('*.npy'):\n",
        "  if not file_path.exists():\n",
        "    print(file_path + ' does not exist!')\n",
        "    continue\n",
        "  with open(file_path, 'rb') as f:\n",
        "    corpus = np.concatenate((corpus, np.load(f)))\n",
        "\n",
        "print(len(corpus))"
      ]
    },
    {
      "cell_type": "markdown",
      "metadata": {
        "colab_type": "text",
        "id": "c6IkDHiE9anQ"
      },
      "source": [
        "## 入力データの整形"
      ]
    },
    {
      "cell_type": "markdown",
      "metadata": {
        "colab_type": "text",
        "id": "LdqA-9bKpdDK"
      },
      "source": [
        "### 訓練データ、検証データ、テストデータに分割"
      ]
    },
    {
      "cell_type": "code",
      "execution_count": 0,
      "metadata": {
        "colab": {
          "base_uri": "https://localhost:8080/",
          "height": 35
        },
        "colab_type": "code",
        "id": "CCfR6tJupi6S",
        "outputId": "ecbb7f18-f1eb-4324-87a1-bdb1fc9c37ec"
      },
      "outputs": [
        {
          "name": "stdout",
          "output_type": "stream",
          "text": [
            "1108384 138548 138548\n"
          ]
        }
      ],
      "source": [
        "train_ratio = 0.8\n",
        "val_ratio = 0.1\n",
        "\n",
        "size = len(corpus)\n",
        "train_size = math.floor(size * train_ratio)\n",
        "val_size = math.floor(size * val_ratio)\n",
        "\n",
        "train = torch.tensor(corpus[:train_size], dtype=torch.long, device=device)\n",
        "val = torch.tensor(corpus[train_size:train_size + val_size],\n",
        "                   dtype=torch.long, device=device)\n",
        "test = torch.tensor(corpus[train_size + val_size:],\n",
        "                    dtype=torch.long, device=device)\n",
        "print(len(train), len(val), len(test))"
      ]
    },
    {
      "cell_type": "markdown",
      "metadata": {
        "colab_type": "text",
        "id": "kTljuwiU7AFT"
      },
      "source": [
        "### ミニバッチ化"
      ]
    },
    {
      "cell_type": "code",
      "execution_count": 0,
      "metadata": {
        "colab": {
          "base_uri": "https://localhost:8080/",
          "height": 35
        },
        "colab_type": "code",
        "id": "oSrdUOFCQRuS",
        "outputId": "3ae9e59b-f931-4f95-b83c-9f211f70b25a"
      },
      "outputs": [
        {
          "name": "stdout",
          "output_type": "stream",
          "text": [
            "1584 198 198\n"
          ]
        }
      ],
      "source": [
        "class MyBPTTIterator(object):\n",
        "  \"\"\"Return given data in the shape of (seq_len, batch_size)\"\"\"\n",
        "\n",
        "  def __init__(self, data, batch_size, bptt_len):\n",
        "    nbatch = data.size(0) // batch_size\n",
        "    data = data.narrow(0, 0, nbatch * batch_size)\n",
        "    self.data = data.view(batch_size, -1).t().contiguous()\n",
        "    self.batch_size = batch_size\n",
        "    self.bptt_len = bptt_len\n",
        "\n",
        "  @classmethod\n",
        "  def splits(cls, datasets, batch_size, bptt_len):\n",
        "    ret = []\n",
        "    for data in datasets:\n",
        "      ret.append(cls(data, batch_size, bptt_len))\n",
        "    return tuple(ret)\n",
        "\n",
        "  def __len__(self):\n",
        "    return math.ceil((len(self.data) - 1 ) / self.bptt_len)\n",
        "  \n",
        "  def __iter__(self):\n",
        "    for i in range(0, len(self.data) - 1, self.bptt_len):\n",
        "      seq_len = min(self.bptt_len, len(self.data) - 1 - i)\n",
        "      text = self.data[i:i + seq_len]\n",
        "      target = self.data[i + 1:i + 1 + seq_len]\n",
        "      yield text, target\n",
        "\n",
        "\n",
        "batch_size = 20\n",
        "bptt_len = 35\n",
        "\n",
        "train_iter, val_iter, test_iter = MyBPTTIterator.splits(\n",
        "    (train, val, test), batch_size, bptt_len)\n",
        "print(len(train_iter), len(val_iter), len(test_iter))"
      ]
    },
    {
      "cell_type": "markdown",
      "metadata": {
        "colab_type": "text",
        "id": "tXxgYGbgsooa"
      },
      "source": [
        "## モデルの構築"
      ]
    },
    {
      "cell_type": "code",
      "execution_count": 0,
      "metadata": {
        "colab": {},
        "colab_type": "code",
        "id": "PAJ7M3tU7xu1"
      },
      "outputs": [],
      "source": [
        "class MyLSTM(nn.Module):\n",
        "  def __init__(self, vocab_size, emb_dim, hidden_size, dropout=0.5,\n",
        "               embeddings=None, freeze=False, weight_tied=False):\n",
        "    super(MyLSTM, self).__init__()\n",
        "\n",
        "    if embeddings is not None:\n",
        "      weight_size = (vocab_size, emb_dim)\n",
        "      if embeddings.size() != weight_size:\n",
        "        raise ValueError(\n",
        "            f'Expected weight size {weight_size}, got {embeddings.size()}')\n",
        "      self.embed = nn.Embedding.from_pretrained(embeddings, freeze=freeze)\n",
        "    else:\n",
        "      self.embed = nn.Embedding(vocab_size, emb_dim)\n",
        "    self.dropout1 = nn.Dropout(dropout)\n",
        "    self.lstm1 = nn.LSTM(emb_dim, hidden_size)\n",
        "    self.dropout2 = nn.Dropout(dropout)\n",
        "    self.lstm2 = nn.LSTM(hidden_size, emb_dim)\n",
        "    self.dropout3 = nn.Dropout(dropout)\n",
        "    self.linear = nn.Linear(emb_dim, vocab_size)\n",
        "\n",
        "    nn.init.normal_(self.embed.weight, std=0.01)\n",
        "    nn.init.normal_(self.lstm1.weight_ih_l0, std=1/math.sqrt(emb_dim))\n",
        "    nn.init.normal_(self.lstm1.weight_hh_l0, std=1/math.sqrt(hidden_size))\n",
        "    nn.init.zeros_(self.lstm1.bias_ih_l0)\n",
        "    nn.init.zeros_(self.lstm1.bias_hh_l0)\n",
        "    nn.init.normal_(self.lstm2.weight_ih_l0, std=1/math.sqrt(hidden_size))\n",
        "    nn.init.normal_(self.lstm2.weight_hh_l0, std=1/math.sqrt(hidden_size))\n",
        "    nn.init.zeros_(self.lstm2.bias_ih_l0)\n",
        "    nn.init.zeros_(self.lstm2.bias_hh_l0)\n",
        "    if weight_tied:\n",
        "      self.linear.weight = self.embed.weight\n",
        "    else:\n",
        "      nn.init.normal_(self.linear.weight, std=1/math.sqrt(emb_dim))\n",
        "    nn.init.zeros_(self.linear.bias)\n",
        "\n",
        "  def forward(self, input, hidden_prev):\n",
        "    if hidden_prev is None:\n",
        "      hidden1_prev, hidden2_prev = None, None\n",
        "    else:\n",
        "      hidden1_prev = hidden_prev[0:2]\n",
        "      hidden2_prev = hidden_prev[2:4]\n",
        "    \n",
        "    emb_out = self.embed(input)\n",
        "    emb_out = self.dropout1(emb_out)\n",
        "    lstm1_out, hidden1_next = self.lstm1(emb_out, hidden1_prev)\n",
        "    lstm1_out = self.dropout2(lstm1_out)\n",
        "    lstm2_out, hidden2_next = self.lstm2(lstm1_out, hidden2_prev)\n",
        "    lstm2_out = self.dropout3(lstm2_out)\n",
        "    output = self.linear(lstm2_out)\n",
        "\n",
        "    hidden_next = hidden1_next + hidden2_next\n",
        "    return output, hidden_next"
      ]
    },
    {
      "cell_type": "markdown",
      "metadata": {
        "colab_type": "text",
        "id": "DzbwCDtODjRV"
      },
      "source": [
        "### パープレキシティを評価する関数"
      ]
    },
    {
      "cell_type": "code",
      "execution_count": 0,
      "metadata": {
        "colab": {},
        "colab_type": "code",
        "id": "VfDHCv6VDoBM"
      },
      "outputs": [],
      "source": [
        "def eval_perplexity(model, iterator):\n",
        "  total_loss = 0\n",
        "  hidden = None\n",
        "\n",
        "  model.eval()\n",
        "  with torch.no_grad():\n",
        "    for input, target in iterator:\n",
        "      output, hidden = model(input, hidden)\n",
        "      loss = F.cross_entropy(output.view(-1, vocab_size), target.view(-1))\n",
        "      total_loss += loss.item()\n",
        "  \n",
        "  ppl = math.exp(total_loss / len(iterator))\n",
        "  return ppl"
      ]
    },
    {
      "cell_type": "markdown",
      "metadata": {
        "colab_type": "text",
        "id": "a9enEH40suiK"
      },
      "source": [
        "## モデルの学習\n",
        "\n"
      ]
    },
    {
      "cell_type": "markdown",
      "metadata": {
        "colab_type": "text",
        "id": "UXau95pgy4sY"
      },
      "source": [
        "### 学習準備"
      ]
    },
    {
      "cell_type": "code",
      "execution_count": 0,
      "metadata": {
        "colab": {
          "base_uri": "https://localhost:8080/",
          "height": 35
        },
        "colab_type": "code",
        "id": "TgFvqOWGQUk8",
        "outputId": "9b90e9fe-191c-444e-9f51-832e5ab19510"
      },
      "outputs": [
        {
          "name": "stdout",
          "output_type": "stream",
          "text": [
            "50001 300\n"
          ]
        }
      ],
      "source": [
        "vocab_size = len(word_to_id)\n",
        "emb_dim = embeddings.size()[1]\n",
        "print(vocab_size, emb_dim)\n",
        "\n",
        "hidden_size = emb_dim\n",
        "dropout = 0.5\n",
        "learning_rate = 20.0\n",
        "\n",
        "model = MyLSTM(vocab_size, emb_dim, hidden_size, dropout,\n",
        "               embeddings, freeze=False, weight_tied=True)\n",
        "model.to(device)\n",
        "\n",
        "criterion = nn.CrossEntropyLoss()\n",
        "optimizer = optim.SGD(model.parameters(), lr=learning_rate)"
      ]
    },
    {
      "cell_type": "markdown",
      "metadata": {
        "colab_type": "text",
        "id": "WVJbMWy66thJ"
      },
      "source": [
        "### 学習の実行"
      ]
    },
    {
      "cell_type": "code",
      "execution_count": 0,
      "metadata": {
        "colab": {
          "base_uri": "https://localhost:8080/",
          "height": 575
        },
        "colab_type": "code",
        "id": "glyiYgOf6vWY",
        "outputId": "63431273-7ffd-424f-fdc6-6ee2d9b8fd91"
      },
      "outputs": [
        {
          "name": "stdout",
          "output_type": "stream",
          "text": [
            "initial ppl : 49999.77\n",
            "| epoch 1 : valid perplexity 73.41  time 53.60s |\n",
            "| epoch 2 : valid perplexity 61.14  time 55.07s |\n",
            "| epoch 3 : valid perplexity 58.96  time 56.05s |\n",
            "| epoch 4 : valid perplexity 56.09  time 56.94s |\n",
            "| epoch 5 : valid perplexity 53.60  time 57.32s |\n",
            "| epoch 6 : valid perplexity 51.63  time 57.26s |\n",
            "| epoch 7 : valid perplexity 50.91  time 57.25s |\n",
            "| epoch 8 : valid perplexity 50.88  time 57.29s |\n",
            "| epoch 9 : valid perplexity 50.33  time 57.28s |\n",
            "| epoch 10 : valid perplexity 50.01  time 57.29s |\n",
            "| epoch 11 : valid perplexity 48.89  time 57.31s |\n",
            "| epoch 12 : valid perplexity 48.24  time 57.30s |\n",
            "| epoch 13 : valid perplexity 48.80  time 57.28s |\n",
            "| epoch 14 : valid perplexity 46.24  time 57.30s |\n",
            "| epoch 15 : valid perplexity 45.97  time 57.31s |\n",
            "| epoch 16 : valid perplexity 45.64  time 57.32s |\n",
            "| epoch 17 : valid perplexity 45.61  time 57.33s |\n",
            "| epoch 18 : valid perplexity 45.57  time 57.34s |\n",
            "| epoch 19 : valid perplexity 45.49  time 57.36s |\n",
            "| epoch 20 : valid perplexity 45.36  time 57.35s |\n",
            "| epoch 21 : valid perplexity 45.09  time 57.34s |\n",
            "| epoch 22 : valid perplexity 45.21  time 57.34s |\n",
            "| epoch 23 : valid perplexity 44.50  time 57.37s |\n",
            "| epoch 24 : valid perplexity 44.44  time 57.34s |\n",
            "| epoch 25 : valid perplexity 44.38  time 57.36s |\n",
            "| epoch 26 : valid perplexity 44.41  time 57.35s |\n",
            "| epoch 27 : valid perplexity 44.16  time 57.38s |\n",
            "| epoch 28 : valid perplexity 44.17  time 57.36s |\n",
            "| epoch 29 : valid perplexity 44.11  time 57.35s |\n",
            "| epoch 30 : valid perplexity 44.10  time 57.35s |\n"
          ]
        }
      ],
      "source": [
        "max_epoch = 30\n",
        "max_norm = 0.25\n",
        "\n",
        "total_loss, loss_count = 0, 0\n",
        "ppl_list = []\n",
        "best_ppl = float('inf')\n",
        "save_path = './data/model/weights.pth'\n",
        "\n",
        "for epoch in range(max_epoch):\n",
        "  model.train()\n",
        "  hidden = None\n",
        "  start = time.time()\n",
        "\n",
        "  for i, iters in enumerate(train_iter):\n",
        "    input, target = iters\n",
        "    optimizer.zero_grad()\n",
        "    output, hidden = model(input, hidden)\n",
        "    loss = criterion(output.view(-1, vocab_size), target.view(-1))\n",
        "    loss.backward()\n",
        "    torch.nn.utils.clip_grad_norm_(model.parameters(), max_norm)\n",
        "    optimizer.step()\n",
        "    hidden = tuple(h.detach() for h in hidden)\n",
        "\n",
        "    total_loss += loss.item()\n",
        "    loss_count += 1\n",
        "    if i % 500 == 0:\n",
        "      ppl = math.exp(total_loss / loss_count)\n",
        "      ppl_list.append(ppl)\n",
        "      total_loss, loss_count = 0, 0\n",
        "      if epoch == 0 and i == 0:\n",
        "        print(f'initial ppl : {ppl:.2f}')\n",
        "\n",
        "  val_ppl = eval_perplexity(model, val_iter)\n",
        "  t = time.time() - start\n",
        "  print(f'| epoch {epoch+1} : valid perplexity {val_ppl:.2f}  time {t:.2f}s |')\n",
        "  if val_ppl < best_ppl:\n",
        "    best_ppl = val_ppl\n",
        "    torch.save(model.state_dict(), save_path)\n",
        "  else:\n",
        "    learning_rate /= 4.0\n",
        "    for group in optimizer.param_groups:\n",
        "      group['lr'] = learning_rate"
      ]
    },
    {
      "cell_type": "markdown",
      "metadata": {
        "colab_type": "text",
        "id": "RG-X9uhx0cOI"
      },
      "source": [
        "### 学習結果のプロット"
      ]
    },
    {
      "cell_type": "code",
      "execution_count": 0,
      "metadata": {
        "colab": {
          "base_uri": "https://localhost:8080/",
          "height": 295
        },
        "colab_type": "code",
        "id": "roB0l2e50e9v",
        "outputId": "fe5b158d-ecb3-419c-855f-911bb313e156"
      },
      "outputs": [
        {
          "data": {
            "image/png": "[encoded data removed]",
            "text/plain": [
              "<Figure size 432x288 with 1 Axes>"
            ]
          },
          "metadata": {
            "tags": []
          },
          "output_type": "display_data"
        }
      ],
      "source": [
        "plt.plot(ppl_list)\n",
        "plt.ylim((0, 100))\n",
        "plt.xlabel('iterations')\n",
        "plt.ylabel('perplexity')\n",
        "plt.title('train perplexity')\n",
        "plt.show()"
      ]
    },
    {
      "cell_type": "markdown",
      "metadata": {
        "colab_type": "text",
        "id": "wYFbHp-ltIbE"
      },
      "source": [
        "### テストデータで評価"
      ]
    },
    {
      "cell_type": "code",
      "execution_count": 0,
      "metadata": {
        "colab": {
          "base_uri": "https://localhost:8080/",
          "height": 35
        },
        "colab_type": "code",
        "id": "iNA2ySg2Qi9p",
        "outputId": "cb847caf-c1b1-4e9f-c064-c1fe7e2bf3ee"
      },
      "outputs": [
        {
          "name": "stdout",
          "output_type": "stream",
          "text": [
            "| test perplexity 45.45 |\n"
          ]
        }
      ],
      "source": [
        "ppl = eval_perplexity(model, test_iter)\n",
        "print(f'| test perplexity {ppl:.2f} |')"
      ]
    },
    {
      "cell_type": "markdown",
      "metadata": {
        "colab_type": "text",
        "id": "bQr-lxn534_n"
      },
      "source": [
        "## 文章生成"
      ]
    },
    {
      "cell_type": "code",
      "execution_count": 0,
      "metadata": {
        "colab": {
          "base_uri": "https://localhost:8080/",
          "height": 181
        },
        "colab_type": "code",
        "id": "LtHts3eS3_X9",
        "outputId": "38f9285a-7ee4-4cea-8b52-b6c32aedebb3"
      },
      "outputs": [
        {
          "name": "stdout",
          "output_type": "stream",
          "text": [
            "私は、大みそかもお手伝いしたばかりの、いくらだのと信じて離れたいのに、やっぱり、――」「小んです」「え、こんどはそうです。」\n",
            "「そんなら。」\n",
            "こんどは、黙ってつとめているのである。\n",
            "「小説を知ることはあるまい。」\n",
            "「だと思ってるよ。」\n",
            "思いめくって、そうして私には、「世相かインバータ」という形が、唯一の返事をしているつもりであるが、私はこのごろその後も疑ってしまったのに、説教をしたように、黙っていた。\n",
            "私は、頭が親のみちるを感じた。\n",
            "「だから、それでも、もう五時、きょうは買いましたが、僕たちが下宿にハイリスクですから、\n"
          ]
        }
      ],
      "source": [
        "def text_generate(model, start_ids, length=100, skip_ids=None,\n",
        "                  prob=True, top=None, seed=2020):\n",
        "  word_ids = []\n",
        "  word_ids += start_ids\n",
        "\n",
        "  random.seed(seed)\n",
        "  model.eval()\n",
        "  with torch.no_grad():\n",
        "    hidden = None\n",
        "    input_id = start_ids\n",
        "    while len(word_ids) < length:\n",
        "      input = torch.tensor(input_id, dtype=torch.long,\n",
        "                           device=device).view(1, -1).t().contiguous()\n",
        "      output, hidden = model(input, hidden)\n",
        "      \n",
        "      p_list = F.softmax(output[-1].flatten(), dim=0)\n",
        "\n",
        "      if top is not None:\n",
        "        sorted_p_list = p_list.sort(descending=True).values[:top]\n",
        "        sorted_idx = p_list.sort(descending=True).indices[:top]\n",
        "        p_list = sorted_p_list / sorted_p_list.sum()\n",
        "\n",
        "      if prob:\n",
        "        while True:\n",
        "          rnd = random.random()\n",
        "          p_sum = 0\n",
        "          for idx, p in enumerate(p_list):\n",
        "            p_sum += p.item()\n",
        "            if rnd < p_sum:\n",
        "              sampled = idx if top is None else sorted_idx[idx].item()\n",
        "              break\n",
        "          if (skip_ids is None) or (sampled not in skip_ids):\n",
        "            break\n",
        "      else:\n",
        "        if skip_ids is not None:\n",
        "          p_list[skip_ids] = 0\n",
        "          sampled = p_list.argmax().item()\n",
        "\n",
        "      word_ids.append(sampled)\n",
        "      input_id = sampled\n",
        "    \n",
        "  return word_ids\n",
        "\n",
        "\n",
        "save_path = './data/model/weights.pth'\n",
        "model = MyLSTM(vocab_size, emb_dim, hidden_size, dropout, weight_tied=True)\n",
        "model.load_state_dict(torch.load(save_path))\n",
        "model.to(device)\n",
        "\n",
        "start_words = ['私', 'は']\n",
        "\n",
        "start_ids = []\n",
        "for start_word in start_words:\n",
        "  if start_word not in word_to_id:\n",
        "    raise KeyError(start_word + ' is not in the dictionary!')\n",
        "  start_ids.append(word_to_id[start_word])\n",
        "skip_ids = [word_to_id['<unk>']]\n",
        "\n",
        "word_ids = text_generate(model, start_ids, length=173,\n",
        "                         skip_ids=skip_ids, top=None, seed=1)\n",
        "text = ''.join([id_to_word[w_id] for w_id in word_ids])\n",
        "text = text.replace('。', '。\\n').replace('。\\n」', '。」\\n')\n",
        "print(text)"
      ]
    }
  ]
}